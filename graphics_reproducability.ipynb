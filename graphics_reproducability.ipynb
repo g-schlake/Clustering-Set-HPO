{
 "cells": [
  {
   "metadata": {},
   "cell_type": "code",
   "outputs": [],
   "execution_count": null,
   "source": [
    "import pandas as pd\n",
    "import os"
   ]
  },
  {
   "metadata": {},
   "cell_type": "markdown",
   "source": [
    "# Data import\n",
    "This notebook will help to reproduce our graphics. If you computed the results by yourself and want to reproduce the graphics on them, you need to change `reported_results` to `output`  in the following cell"
   ]
  },
  {
   "metadata": {},
   "cell_type": "code",
   "outputs": [],
   "execution_count": null,
   "source": [
    "input_df = pd.read_csv(os.path.join(\"reported_results\",\"interestingness_hpo.csv\"), index_col=0)\n",
    "input_df[\"Method\"].replace(\"FIXED\",\"FAS\",inplace=True)\n",
    "input_df[\"Method\"].replace(\"BINARY\",\"BAS\",inplace=True)\n",
    "input_df[\"Method\"].replace(\"ALG_NUMBER\",\"ACS\",inplace=True)\n",
    "base_df=input_df.drop([\"Interestingness\", \"Hyperparams\",\"Dataset\"],axis=1)\n",
    "gb = base_df.groupby([\"HPO\", \"Method\"]).mean()"
   ]
  },
  {
   "metadata": {},
   "cell_type": "markdown",
   "source": [
    "# CD-Diagram\n",
    "The following cell will produce the input used to generate a CD-Diagram for Figure 4 using this [GitHub Repository](https://github.com/hfawaz/cd-diagram). However, we did minor changes in their code (regarding the ordering of the drawn objects and the title of the plot). We can not show our changes for licensing reasons."
   ]
  },
  {
   "metadata": {},
   "cell_type": "code",
   "outputs": [],
   "execution_count": null,
   "source": [
    "cd_input = input_df.copy()\n",
    "cd_input.drop([\"Interestingness\", \"Hyperparams\", \"Duration\"]  ,inplace=True,axis=1)\n",
    "cd_input[\"classifier_name\"]=cd_input[\"HPO\"]+\" \"+cd_input[\"Method\"]\n",
    "cd_input.drop([\"HPO\",\"Method\"],inplace=True,axis=1)\n",
    "cd_input.rename(columns={\"Score\":\"accuracy\", \"Dataset\":\"dataset_name\"},inplace=True)\n",
    "cd_input.to_csv(\"example.csv\",index=False)"
   ]
  },
  {
   "metadata": {},
   "cell_type": "markdown",
   "source": [
    "# Result table\n",
    "Produces table 2 of the paper. However, we cut the decimals from the time, changed \"Duration\" to \"Duration in s\" and split the table between SMAC AC and SMAC BB manually and added a few visually aiding borders. The \\gradient function uses the package [highlight](https://www.overleaf.com/read/dywhsntqpzbk#8c83ee). We manually changed the maximum and minimum color to adapt to the highest and lowest scores in Latex. We ignored the Gradient function on the times, as due to the values being out of our defined range, they did not change the resulting table. "
   ]
  },
  {
   "metadata": {},
   "cell_type": "code",
   "outputs": [],
   "execution_count": null,
   "source": [
    "def add_grad(str):\n",
    "    return f\"\\\\gradient{{{str:.2f}}}\"\n",
    "out = gb.T.to_latex(formatters={x:add_grad for x in gb.T.columns})\n",
    "print(out)"
   ]
  }
 ],
 "metadata": {
  "kernelspec": {
   "display_name": "Python 3 (ipykernel)",
   "language": "python",
   "name": "python3"
  },
  "language_info": {
   "codemirror_mode": {
    "name": "ipython",
    "version": 3
   },
   "file_extension": ".py",
   "mimetype": "text/x-python",
   "name": "python",
   "nbconvert_exporter": "python",
   "pygments_lexer": "ipython3",
   "version": "3.8.10"
  }
 },
 "nbformat": 4,
 "nbformat_minor": 1
}
